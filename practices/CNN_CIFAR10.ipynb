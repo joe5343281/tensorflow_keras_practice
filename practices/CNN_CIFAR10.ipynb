{
 "cells": [
  {
   "cell_type": "markdown",
   "metadata": {},
   "source": [
    "## 資料前置處理"
   ]
  },
  {
   "cell_type": "code",
   "execution_count": 1,
   "metadata": {},
   "outputs": [
    {
     "name": "stderr",
     "output_type": "stream",
     "text": [
      "Using TensorFlow backend.\n"
     ]
    }
   ],
   "source": [
    "from keras.datasets import cifar10\n",
    "import numpy as np\n",
    "np.random.seed(10)"
   ]
  },
  {
   "cell_type": "code",
   "execution_count": 2,
   "metadata": {},
   "outputs": [],
   "source": [
    "(x_img_train, y_label_train), \\\n",
    "(x_img_test, y_label_test) = cifar10.load_data()"
   ]
  },
  {
   "cell_type": "code",
   "execution_count": 3,
   "metadata": {},
   "outputs": [
    {
     "name": "stdout",
     "output_type": "stream",
     "text": [
      "train data: images:, (50000, 32, 32, 3) labels: (50000, 1)\n",
      "train data: images:, (10000, 32, 32, 3) labels: (10000, 1)\n"
     ]
    }
   ],
   "source": [
    "print(f\"train data: images:, {x_img_train.shape} labels: {y_label_train.shape}\")\n",
    "print(f\"train data: images:, {x_img_test.shape} labels: {y_label_test.shape}\")"
   ]
  },
  {
   "cell_type": "code",
   "execution_count": 4,
   "metadata": {},
   "outputs": [],
   "source": [
    "x_img_train_normalize = x_img_train.astype('float32') / 255.0\n",
    "x_img_test_normalize = x_img_test.astype('float32') / 255.0"
   ]
  },
  {
   "cell_type": "code",
   "execution_count": 5,
   "metadata": {},
   "outputs": [],
   "source": [
    "from keras.utils import np_utils\n",
    "y_label_train_OneHot = np_utils.to_categorical(y_label_train)\n",
    "y_label_test_OneHot = np_utils.to_categorical(y_label_test)"
   ]
  },
  {
   "cell_type": "markdown",
   "metadata": {},
   "source": [
    "## 建立模型"
   ]
  },
  {
   "cell_type": "code",
   "execution_count": 6,
   "metadata": {},
   "outputs": [],
   "source": [
    "from keras.models import Sequential\n",
    "from keras.layers import Dense, Dropout, Activation, Flatten\n",
    "from keras.layers import Conv2D, MaxPooling2D, ZeroPadding2D"
   ]
  },
  {
   "cell_type": "code",
   "execution_count": 7,
   "metadata": {},
   "outputs": [],
   "source": [
    "model = Sequential()"
   ]
  },
  {
   "cell_type": "code",
   "execution_count": 8,
   "metadata": {},
   "outputs": [],
   "source": [
    "model.add(Conv2D(filters = 32,\n",
    "                 kernel_size = (3, 3),\n",
    "                 input_shape = (32, 32, 3),\n",
    "                 activation = 'relu',\n",
    "                 padding = 'same'))"
   ]
  },
  {
   "cell_type": "code",
   "execution_count": 9,
   "metadata": {},
   "outputs": [],
   "source": [
    "model.add(Dropout(0.25))"
   ]
  },
  {
   "cell_type": "code",
   "execution_count": 10,
   "metadata": {},
   "outputs": [],
   "source": [
    "model.add(MaxPooling2D(pool_size=(2, 2)))"
   ]
  },
  {
   "cell_type": "code",
   "execution_count": 11,
   "metadata": {},
   "outputs": [],
   "source": [
    "model.add(Conv2D(filters=64,\n",
    "                 kernel_size = (3,3),\n",
    "                 activation = 'relu',\n",
    "                 padding = 'same'))"
   ]
  },
  {
   "cell_type": "code",
   "execution_count": 12,
   "metadata": {},
   "outputs": [],
   "source": [
    "model.add(Dropout(0.25))"
   ]
  },
  {
   "cell_type": "code",
   "execution_count": 13,
   "metadata": {},
   "outputs": [],
   "source": [
    "model.add(MaxPooling2D(pool_size = (2, 2)))"
   ]
  },
  {
   "cell_type": "code",
   "execution_count": 14,
   "metadata": {},
   "outputs": [],
   "source": [
    "model.add(Flatten())\n",
    "model.add(Dropout(0.25))"
   ]
  },
  {
   "cell_type": "code",
   "execution_count": 15,
   "metadata": {},
   "outputs": [],
   "source": [
    "model.add(Dense(1024, activation = 'relu'))\n",
    "model.add(Dropout(rate = 0.25))"
   ]
  },
  {
   "cell_type": "code",
   "execution_count": 16,
   "metadata": {},
   "outputs": [],
   "source": [
    "model.add(Dense(10, activation = 'softmax'))"
   ]
  },
  {
   "cell_type": "code",
   "execution_count": 17,
   "metadata": {},
   "outputs": [
    {
     "name": "stdout",
     "output_type": "stream",
     "text": [
      "_________________________________________________________________\n",
      "Layer (type)                 Output Shape              Param #   \n",
      "=================================================================\n",
      "conv2d_1 (Conv2D)            (None, 32, 32, 32)        896       \n",
      "_________________________________________________________________\n",
      "dropout_1 (Dropout)          (None, 32, 32, 32)        0         \n",
      "_________________________________________________________________\n",
      "max_pooling2d_1 (MaxPooling2 (None, 16, 16, 32)        0         \n",
      "_________________________________________________________________\n",
      "conv2d_2 (Conv2D)            (None, 16, 16, 64)        18496     \n",
      "_________________________________________________________________\n",
      "dropout_2 (Dropout)          (None, 16, 16, 64)        0         \n",
      "_________________________________________________________________\n",
      "max_pooling2d_2 (MaxPooling2 (None, 8, 8, 64)          0         \n",
      "_________________________________________________________________\n",
      "flatten_1 (Flatten)          (None, 4096)              0         \n",
      "_________________________________________________________________\n",
      "dropout_3 (Dropout)          (None, 4096)              0         \n",
      "_________________________________________________________________\n",
      "dense_1 (Dense)              (None, 1024)              4195328   \n",
      "_________________________________________________________________\n",
      "dropout_4 (Dropout)          (None, 1024)              0         \n",
      "_________________________________________________________________\n",
      "dense_2 (Dense)              (None, 10)                10250     \n",
      "=================================================================\n",
      "Total params: 4,224,970\n",
      "Trainable params: 4,224,970\n",
      "Non-trainable params: 0\n",
      "_________________________________________________________________\n",
      "None\n"
     ]
    }
   ],
   "source": [
    "print(model.summary())"
   ]
  },
  {
   "cell_type": "code",
   "execution_count": 18,
   "metadata": {},
   "outputs": [],
   "source": [
    "model.compile(loss = 'categorical_crossentropy',\n",
    "              optimizer = 'adam',\n",
    "              metrics = ['accuracy'])"
   ]
  },
  {
   "cell_type": "code",
   "execution_count": 19,
   "metadata": {},
   "outputs": [
    {
     "name": "stdout",
     "output_type": "stream",
     "text": [
      "Train on 40000 samples, validate on 10000 samples\n",
      "Epoch 1/10\n",
      " - 114s - loss: 1.5043 - acc: 0.4577 - val_loss: 1.2715 - val_acc: 0.5831\n",
      "Epoch 2/10\n",
      " - 112s - loss: 1.1405 - acc: 0.5936 - val_loss: 1.1128 - val_acc: 0.6388\n",
      "Epoch 3/10\n",
      " - 113s - loss: 0.9835 - acc: 0.6554 - val_loss: 1.0249 - val_acc: 0.6562\n",
      "Epoch 4/10\n",
      " - 112s - loss: 0.8725 - acc: 0.6925 - val_loss: 0.9370 - val_acc: 0.6980\n",
      "Epoch 5/10\n",
      " - 134s - loss: 0.7812 - acc: 0.7242 - val_loss: 0.8692 - val_acc: 0.7115\n",
      "Epoch 6/10\n",
      " - 110s - loss: 0.6959 - acc: 0.7569 - val_loss: 0.8382 - val_acc: 0.7192\n",
      "Epoch 7/10\n",
      " - 112s - loss: 0.6150 - acc: 0.7862 - val_loss: 0.8177 - val_acc: 0.7242\n",
      "Epoch 8/10\n",
      " - 112s - loss: 0.5517 - acc: 0.8059 - val_loss: 0.7669 - val_acc: 0.7425\n",
      "Epoch 9/10\n",
      " - 110s - loss: 0.4788 - acc: 0.8334 - val_loss: 0.8340 - val_acc: 0.7164\n",
      "Epoch 10/10\n",
      " - 111s - loss: 0.4269 - acc: 0.8513 - val_loss: 0.7975 - val_acc: 0.7275\n"
     ]
    }
   ],
   "source": [
    "train_history = model.fit(x_img_train_normalize,\n",
    "                          y_label_train_OneHot,\n",
    "                          validation_split = 0.2, \n",
    "                          epochs = 10,\n",
    "                          batch_size = 128,\n",
    "                          verbose = 2)"
   ]
  },
  {
   "cell_type": "code",
   "execution_count": null,
   "metadata": {},
   "outputs": [],
   "source": [
    "import matplotlib.pyplot as plt\n",
    "def show_train_history(train_history,\n",
    "                       train,\n",
    "                       validation):\n",
    "    plt.plot(train_history.history[train])\n",
    "    plt.plot(train_history.history[validation])\n",
    "    plt.title('Train History')\n",
    "    plt.ylabel(train)\n",
    "    plt.xlabel('Epoch')\n",
    "    plt.legend(['train', 'validation'], loc='upper left')\n",
    "    plt.show()"
   ]
  },
  {
   "cell_type": "code",
   "execution_count": 21,
   "metadata": {},
   "outputs": [
    {
     "data": {
      "image/png": "[encoded data removed]",
      "text/plain": [
       "<Figure size 432x288 with 1 Axes>"
      ]
     },
     "metadata": {},
     "output_type": "display_data"
    }
   ],
   "source": [
    "show_train_history(train_history, 'acc', 'val_acc')"
   ]
  },
  {
   "cell_type": "code",
   "execution_count": 22,
   "metadata": {},
   "outputs": [
    {
     "data": {
      "image/png": "[encoded data removed]",
      "text/plain": [
       "<Figure size 432x288 with 1 Axes>"
      ]
     },
     "metadata": {},
     "output_type": "display_data"
    }
   ],
   "source": [
    "show_train_history(train_history, 'loss', 'val_loss')"
   ]
  },
  {
   "cell_type": "code",
   "execution_count": 23,
   "metadata": {},
   "outputs": [
    {
     "data": {
      "text/plain": [
       "0.7231"
      ]
     },
     "execution_count": 23,
     "metadata": {},
     "output_type": "execute_result"
    }
   ],
   "source": [
    "scores = model.evaluate(x_img_test_normalize,\n",
    "                        y_label_test_OneHot,\n",
    "                        verbose = 0)\n",
    "scores[1]"
   ]
  },
  {
   "cell_type": "code",
   "execution_count": 24,
   "metadata": {},
   "outputs": [],
   "source": [
    "prediction = model.predict_classes(x_img_test_normalize)"
   ]
  },
  {
   "cell_type": "code",
   "execution_count": 25,
   "metadata": {},
   "outputs": [
    {
     "data": {
      "text/plain": [
       "array([3, 8, 8, 0, 6, 6, 1, 6, 3, 1])"
      ]
     },
     "execution_count": 25,
     "metadata": {},
     "output_type": "execute_result"
    }
   ],
   "source": [
    "prediction[:10]"
   ]
  },
  {
   "cell_type": "code",
   "execution_count": 27,
   "metadata": {},
   "outputs": [],
   "source": [
    "def plot_images_labels_prediction(images, \n",
    "                                  labels,\n",
    "                                  prediction,\n",
    "                                  idx,\n",
    "                                  num = 10):\n",
    "    fig = plt.gcf()\n",
    "    fig.set_size_inches(12, 14)\n",
    "    if num > 25: \n",
    "        num = 25\n",
    "    for i in range(0, num):\n",
    "        ax = plt.subplot(5, 5, i+1)\n",
    "        ax.imshow(images[idx], cmap = 'binary')\n",
    "        title = f\"label = {labels[idx]}\"\n",
    "        if len(prediction) > 0:\n",
    "            title += f\", predict = {prediction[idx]}\"\n",
    "            \n",
    "        ax.set_title(title, fontsize = 12)\n",
    "        ax.set_xticks([]); ax.set_yticks([])\n",
    "        idx += 1\n",
    "    plt.show()"
   ]
  },
  {
   "cell_type": "code",
   "execution_count": 28,
   "metadata": {},
   "outputs": [
    {
     "data": {
      "image/png": "[encoded data removed]",
      "text/plain": [
       "<Figure size 864x1008 with 10 Axes>"
      ]
     },
     "metadata": {},
     "output_type": "display_data"
    }
   ],
   "source": [
    "plot_images_labels_prediction(x_img_test, \n",
    "                              y_label_test,\n",
    "                              prediction,\n",
    "                              0,\n",
    "                              10)"
   ]
  },
  {
   "cell_type": "code",
   "execution_count": 29,
   "metadata": {},
   "outputs": [],
   "source": [
    "Predicted_Probability = model.predict(x_img_test_normalize)"
   ]
  },
  {
   "cell_type": "code",
   "execution_count": 35,
   "metadata": {},
   "outputs": [],
   "source": [
    "def show_Predicted_Probability(y,\n",
    "                               prediction,\n",
    "                               x_img,\n",
    "                               Predicted_Probability,\n",
    "                               i):\n",
    "    print(f'label: {label_dict[y[i][0]]} predict {label_dict[prediction[i]]}')\n",
    "    plt.figure(figsize = (2, 2))\n",
    "    plt.imshow(np.reshape(x_img_test[i], (32, 32, 3)))\n",
    "    plt.show()\n",
    "    for j in range(10):\n",
    "        print(f\"{label_dict[j]} Probability:{Predicted_Probability[i][j]:1.9f}\")"
   ]
  },
  {
   "cell_type": "code",
   "execution_count": 38,
   "metadata": {},
   "outputs": [],
   "source": [
    "label_dict = {0: \"airplane\", \n",
    "              1: \"automobile\", \n",
    "              2: \"bird\", \n",
    "              3: \"cat\", \n",
    "              4: \"deer\",\n",
    "              5: \"dog\",\n",
    "              6: \"frog\",\n",
    "              7: \"horse\",\n",
    "              8: \"ship\",\n",
    "              9: \"truck\",\n",
    "             }"
   ]
  },
  {
   "cell_type": "code",
   "execution_count": 39,
   "metadata": {},
   "outputs": [
    {
     "name": "stdout",
     "output_type": "stream",
     "text": [
      "label: cat predict cat\n"
     ]
    },
    {
     "data": {
      "image/png": "[encoded data removed]",
      "text/plain": [
       "<Figure size 144x144 with 1 Axes>"
      ]
     },
     "metadata": {},
     "output_type": "display_data"
    },
    {
     "name": "stdout",
     "output_type": "stream",
     "text": [
      "airplane Probability:0.004336688\n",
      "automobile Probability:0.001308281\n",
      "bird Probability:0.019585459\n",
      "cat Probability:0.577527165\n",
      "deer Probability:0.004560084\n",
      "dog Probability:0.340306938\n",
      "frog Probability:0.033807259\n",
      "horse Probability:0.004987857\n",
      "ship Probability:0.012676755\n",
      "truck Probability:0.000903433\n"
     ]
    }
   ],
   "source": [
    "show_Predicted_Probability(y_label_test,\n",
    "                           prediction,\n",
    "                           x_img_test,\n",
    "                           Predicted_Probability,\n",
    "                           0)"
   ]
  },
  {
   "cell_type": "code",
   "execution_count": 41,
   "metadata": {},
   "outputs": [
    {
     "name": "stdout",
     "output_type": "stream",
     "text": [
      "label: airplane predict airplane\n"
     ]
    },
    {
     "data": {
      "image/png": "[encoded data removed]",
      "text/plain": [
       "<Figure size 144x144 with 1 Axes>"
      ]
     },
     "metadata": {},
     "output_type": "display_data"
    },
    {
     "name": "stdout",
     "output_type": "stream",
     "text": [
      "airplane Probability:0.450184673\n",
      "automobile Probability:0.000858370\n",
      "bird Probability:0.120108671\n",
      "cat Probability:0.001240610\n",
      "deer Probability:0.016153989\n",
      "dog Probability:0.000094145\n",
      "frog Probability:0.000144145\n",
      "horse Probability:0.000016033\n",
      "ship Probability:0.410836071\n",
      "truck Probability:0.000363330\n"
     ]
    }
   ],
   "source": [
    "show_Predicted_Probability(y_label_test,\n",
    "                           prediction,\n",
    "                           x_img_test,\n",
    "                           Predicted_Probability,\n",
    "                           3)"
   ]
  },
  {
   "cell_type": "code",
   "execution_count": 42,
   "metadata": {},
   "outputs": [
    {
     "data": {
      "text/plain": [
       "(10000,)"
      ]
     },
     "execution_count": 42,
     "metadata": {},
     "output_type": "execute_result"
    }
   ],
   "source": [
    "prediction.shape"
   ]
  },
  {
   "cell_type": "code",
   "execution_count": 43,
   "metadata": {},
   "outputs": [
    {
     "data": {
      "text/plain": [
       "(10000, 1)"
      ]
     },
     "execution_count": 43,
     "metadata": {},
     "output_type": "execute_result"
    }
   ],
   "source": [
    "y_label_test.shape"
   ]
  },
  {
   "cell_type": "code",
   "execution_count": 44,
   "metadata": {},
   "outputs": [
    {
     "data": {
      "text/plain": [
       "array([3, 8, 8, ..., 5, 1, 7])"
      ]
     },
     "execution_count": 44,
     "metadata": {},
     "output_type": "execute_result"
    }
   ],
   "source": [
    "y_label_test.reshape(-1)"
   ]
  },
  {
   "cell_type": "code",
   "execution_count": 46,
   "metadata": {},
   "outputs": [
    {
     "name": "stdout",
     "output_type": "stream",
     "text": [
      "{0: 'airplane', 1: 'automobile', 2: 'bird', 3: 'cat', 4: 'deer', 5: 'dog', 6: 'frog', 7: 'horse', 8: 'ship', 9: 'truck'}\n"
     ]
    },
    {
     "data": {
      "text/html": [
       "<div>\n",
       "<style scoped>\n",
       "    .dataframe tbody tr th:only-of-type {\n",
       "        vertical-align: middle;\n",
       "    }\n",
       "\n",
       "    .dataframe tbody tr th {\n",
       "        vertical-align: top;\n",
       "    }\n",
       "\n",
       "    .dataframe thead th {\n",
       "        text-align: right;\n",
       "    }\n",
       "</style>\n",
       "<table border=\"1\" class=\"dataframe\">\n",
       "  <thead>\n",
       "    <tr style=\"text-align: right;\">\n",
       "      <th>predict</th>\n",
       "      <th>0</th>\n",
       "      <th>1</th>\n",
       "      <th>2</th>\n",
       "      <th>3</th>\n",
       "      <th>4</th>\n",
       "      <th>5</th>\n",
       "      <th>6</th>\n",
       "      <th>7</th>\n",
       "      <th>8</th>\n",
       "      <th>9</th>\n",
       "    </tr>\n",
       "    <tr>\n",
       "      <th>label</th>\n",
       "      <th></th>\n",
       "      <th></th>\n",
       "      <th></th>\n",
       "      <th></th>\n",
       "      <th></th>\n",
       "      <th></th>\n",
       "      <th></th>\n",
       "      <th></th>\n",
       "      <th></th>\n",
       "      <th></th>\n",
       "    </tr>\n",
       "  </thead>\n",
       "  <tbody>\n",
       "    <tr>\n",
       "      <th>0</th>\n",
       "      <td>777</td>\n",
       "      <td>5</td>\n",
       "      <td>87</td>\n",
       "      <td>8</td>\n",
       "      <td>14</td>\n",
       "      <td>10</td>\n",
       "      <td>17</td>\n",
       "      <td>5</td>\n",
       "      <td>58</td>\n",
       "      <td>19</td>\n",
       "    </tr>\n",
       "    <tr>\n",
       "      <th>1</th>\n",
       "      <td>31</td>\n",
       "      <td>781</td>\n",
       "      <td>24</td>\n",
       "      <td>13</td>\n",
       "      <td>2</td>\n",
       "      <td>8</td>\n",
       "      <td>24</td>\n",
       "      <td>2</td>\n",
       "      <td>50</td>\n",
       "      <td>65</td>\n",
       "    </tr>\n",
       "    <tr>\n",
       "      <th>2</th>\n",
       "      <td>43</td>\n",
       "      <td>1</td>\n",
       "      <td>709</td>\n",
       "      <td>27</td>\n",
       "      <td>67</td>\n",
       "      <td>50</td>\n",
       "      <td>85</td>\n",
       "      <td>10</td>\n",
       "      <td>8</td>\n",
       "      <td>0</td>\n",
       "    </tr>\n",
       "    <tr>\n",
       "      <th>3</th>\n",
       "      <td>17</td>\n",
       "      <td>6</td>\n",
       "      <td>126</td>\n",
       "      <td>461</td>\n",
       "      <td>59</td>\n",
       "      <td>173</td>\n",
       "      <td>135</td>\n",
       "      <td>12</td>\n",
       "      <td>7</td>\n",
       "      <td>4</td>\n",
       "    </tr>\n",
       "    <tr>\n",
       "      <th>4</th>\n",
       "      <td>19</td>\n",
       "      <td>1</td>\n",
       "      <td>132</td>\n",
       "      <td>37</td>\n",
       "      <td>672</td>\n",
       "      <td>27</td>\n",
       "      <td>93</td>\n",
       "      <td>9</td>\n",
       "      <td>10</td>\n",
       "      <td>0</td>\n",
       "    </tr>\n",
       "    <tr>\n",
       "      <th>5</th>\n",
       "      <td>13</td>\n",
       "      <td>1</td>\n",
       "      <td>88</td>\n",
       "      <td>117</td>\n",
       "      <td>39</td>\n",
       "      <td>647</td>\n",
       "      <td>63</td>\n",
       "      <td>24</td>\n",
       "      <td>3</td>\n",
       "      <td>5</td>\n",
       "    </tr>\n",
       "    <tr>\n",
       "      <th>6</th>\n",
       "      <td>4</td>\n",
       "      <td>1</td>\n",
       "      <td>43</td>\n",
       "      <td>22</td>\n",
       "      <td>14</td>\n",
       "      <td>15</td>\n",
       "      <td>895</td>\n",
       "      <td>1</td>\n",
       "      <td>3</td>\n",
       "      <td>2</td>\n",
       "    </tr>\n",
       "    <tr>\n",
       "      <th>7</th>\n",
       "      <td>13</td>\n",
       "      <td>0</td>\n",
       "      <td>70</td>\n",
       "      <td>34</td>\n",
       "      <td>90</td>\n",
       "      <td>79</td>\n",
       "      <td>21</td>\n",
       "      <td>689</td>\n",
       "      <td>4</td>\n",
       "      <td>0</td>\n",
       "    </tr>\n",
       "    <tr>\n",
       "      <th>8</th>\n",
       "      <td>56</td>\n",
       "      <td>15</td>\n",
       "      <td>30</td>\n",
       "      <td>8</td>\n",
       "      <td>8</td>\n",
       "      <td>10</td>\n",
       "      <td>14</td>\n",
       "      <td>1</td>\n",
       "      <td>851</td>\n",
       "      <td>7</td>\n",
       "    </tr>\n",
       "    <tr>\n",
       "      <th>9</th>\n",
       "      <td>57</td>\n",
       "      <td>66</td>\n",
       "      <td>27</td>\n",
       "      <td>24</td>\n",
       "      <td>2</td>\n",
       "      <td>17</td>\n",
       "      <td>17</td>\n",
       "      <td>8</td>\n",
       "      <td>33</td>\n",
       "      <td>749</td>\n",
       "    </tr>\n",
       "  </tbody>\n",
       "</table>\n",
       "</div>"
      ],
      "text/plain": [
       "predict    0    1    2    3    4    5    6    7    8    9\n",
       "label                                                    \n",
       "0        777    5   87    8   14   10   17    5   58   19\n",
       "1         31  781   24   13    2    8   24    2   50   65\n",
       "2         43    1  709   27   67   50   85   10    8    0\n",
       "3         17    6  126  461   59  173  135   12    7    4\n",
       "4         19    1  132   37  672   27   93    9   10    0\n",
       "5         13    1   88  117   39  647   63   24    3    5\n",
       "6          4    1   43   22   14   15  895    1    3    2\n",
       "7         13    0   70   34   90   79   21  689    4    0\n",
       "8         56   15   30    8    8   10   14    1  851    7\n",
       "9         57   66   27   24    2   17   17    8   33  749"
      ]
     },
     "execution_count": 46,
     "metadata": {},
     "output_type": "execute_result"
    }
   ],
   "source": [
    "import pandas as pd\n",
    "print(label_dict)\n",
    "pd.crosstab(y_label_test.reshape(-1),\n",
    "            prediction,\n",
    "            rownames = ['label'],\n",
    "            colnames = ['predict'])"
   ]
  },
  {
   "cell_type": "code",
   "execution_count": 47,
   "metadata": {},
   "outputs": [],
   "source": [
    "model = Sequential()"
   ]
  },
  {
   "cell_type": "code",
   "execution_count": 48,
   "metadata": {},
   "outputs": [],
   "source": [
    "model.add(Conv2D(filters = 32,\n",
    "                 kernel_size = (3,3),\n",
    "                 input_shape = (32, 32, 3),\n",
    "                 activation = 'relu',\n",
    "                 padding = 'same'))\n",
    "model.add(Dropout(0.3))\n",
    "model.add(Conv2D(filters = 32,\n",
    "                 kernel_size = (3,3),\n",
    "                 activation = 'relu',\n",
    "                 padding = 'same'))\n",
    "model.add(MaxPooling2D(pool_size = (2, 2)))"
   ]
  },
  {
   "cell_type": "code",
   "execution_count": 49,
   "metadata": {},
   "outputs": [],
   "source": [
    "model.add(Conv2D(filters = 64,\n",
    "                 kernel_size = (3,3),\n",
    "                 activation = 'relu',\n",
    "                 padding = 'same'))\n",
    "model.add(Dropout(0.3))\n",
    "model.add(Conv2D(filters = 64,\n",
    "                 kernel_size = (3,3),\n",
    "                 activation = 'relu',\n",
    "                 padding = 'same'))\n",
    "model.add(MaxPooling2D(pool_size = (2, 2)))"
   ]
  },
  {
   "cell_type": "code",
   "execution_count": 50,
   "metadata": {},
   "outputs": [],
   "source": [
    "model.add(Conv2D(filters = 128,\n",
    "                 kernel_size = (3,3),\n",
    "                 activation = 'relu',\n",
    "                 padding = 'same'))\n",
    "model.add(Dropout(0.3))\n",
    "model.add(Conv2D(filters = 128,\n",
    "                 kernel_size = (3,3),\n",
    "                 activation = 'relu',\n",
    "                 padding = 'same'))\n",
    "model.add(MaxPooling2D(pool_size = (2, 2)))"
   ]
  },
  {
   "cell_type": "code",
   "execution_count": 51,
   "metadata": {},
   "outputs": [],
   "source": [
    "model.add(Flatten())\n",
    "model.add(Dropout(0.3))\n",
    "model.add(Dense(2500, activation = 'relu'))\n",
    "model.add(Dropout(0.3))\n",
    "model.add(Dense(2500, activation = 'relu'))\n",
    "model.add(Dropout(0.3))\n",
    "model.add(Dense(10, activation = 'softmax'))"
   ]
  },
  {
   "cell_type": "code",
   "execution_count": 54,
   "metadata": {},
   "outputs": [],
   "source": [
    "model.compile(loss = 'categorical_crossentropy',\n",
    "              optimizer = 'adam',\n",
    "              metrics = ['accuracy'])"
   ]
  },
  {
   "cell_type": "code",
   "execution_count": null,
   "metadata": {},
   "outputs": [
    {
     "name": "stdout",
     "output_type": "stream",
     "text": [
      "Loading Model is failure, train new Model\n",
      "Train on 40000 samples, validate on 10000 samples\n",
      "Epoch 1/5\n",
      "40000/40000 [==============================] - 338s 8ms/step - loss: 1.3240 - acc: 0.5155 - val_loss: 1.3951 - val_acc: 0.4939\n",
      "Epoch 2/5\n",
      "40000/40000 [==============================] - 338s 8ms/step - loss: 1.1858 - acc: 0.5741 - val_loss: 1.1759 - val_acc: 0.5751\n",
      "Epoch 3/5\n",
      "40000/40000 [==============================] - 342s 9ms/step - loss: 1.0595 - acc: 0.6187 - val_loss: 1.0287 - val_acc: 0.6353\n",
      "Epoch 4/5\n",
      "40000/40000 [==============================] - 340s 8ms/step - loss: 0.9611 - acc: 0.6577 - val_loss: 0.9601 - val_acc: 0.6627\n",
      "Epoch 5/5\n",
      "40000/40000 [==============================] - 347s 9ms/step - loss: 0.8868 - acc: 0.6846 - val_loss: 0.9022 - val_acc: 0.6853\n",
      "Save model to disk\n",
      "Loading Model is success, Keep training Model\n",
      "Train on 40000 samples, validate on 10000 samples\n",
      "Epoch 1/5\n",
      "40000/40000 [==============================] - 344s 9ms/step - loss: 0.8239 - acc: 0.7058 - val_loss: 0.8784 - val_acc: 0.6867\n",
      "Epoch 2/5\n",
      "40000/40000 [==============================] - 344s 9ms/step - loss: 0.7654 - acc: 0.7284 - val_loss: 0.8915 - val_acc: 0.6876\n",
      "Epoch 3/5\n",
      "40000/40000 [==============================] - 340s 8ms/step - loss: 0.7136 - acc: 0.7467 - val_loss: 0.7618 - val_acc: 0.7340\n",
      "Epoch 4/5\n",
      "40000/40000 [==============================] - 340s 8ms/step - loss: 0.6647 - acc: 0.7641 - val_loss: 0.7722 - val_acc: 0.7330\n",
      "Epoch 5/5\n",
      "39900/40000 [============================>.] - ETA: 0s - loss: 0.6278 - acc: 0.7767"
     ]
    }
   ],
   "source": [
    "for i in range(10):\n",
    "    try:\n",
    "        model.load_weights(\"SaveModel/cifarCnnModel.h5\")\n",
    "        print(\"Loading Model is success, Keep training Model\")\n",
    "    except:\n",
    "        print(\"Loading Model is failure, train new Model\")\n",
    "    train_history = model.fit(x_img_train_normalize,\n",
    "                              y_label_train_OneHot,\n",
    "                              validation_split = 0.2,\n",
    "                              epochs = 5,\n",
    "                              batch_size = 300,\n",
    "                              verbose = 1)\n",
    "    model.save_weights(\"SaveModel/cifarCnnModel.h5\")\n",
    "    print(\"Save model to disk\")"
   ]
  },
  {
   "cell_type": "code",
   "execution_count": null,
   "metadata": {},
   "outputs": [],
   "source": []
  }
 ],
 "metadata": {
  "kernelspec": {
   "display_name": "Python 3",
   "language": "python",
   "name": "python3"
  },
  "language_info": {
   "codemirror_mode": {
    "name": "ipython",
    "version": 3
   },
   "file_extension": ".py",
   "mimetype": "text/x-python",
   "name": "python",
   "nbconvert_exporter": "python",
   "pygments_lexer": "ipython3",
   "version": "3.6.5"
  },
  "varInspector": {
   "cols": {
    "lenName": 16,
    "lenType": 16,
    "lenVar": 40
   },
   "kernels_config": {
    "python": {
     "delete_cmd_postfix": "",
     "delete_cmd_prefix": "del ",
     "library": "var_list.py",
     "varRefreshCmd": "print(var_dic_list())"
    },
    "r": {
     "delete_cmd_postfix": ") ",
     "delete_cmd_prefix": "rm(",
     "library": "var_list.r",
     "varRefreshCmd": "cat(var_dic_list()) "
    }
   },
   "types_to_exclude": [
    "module",
    "function",
    "builtin_function_or_method",
    "instance",
    "_Feature"
   ],
   "window_display": false
  }
 },
 "nbformat": 4,
 "nbformat_minor": 2
}
